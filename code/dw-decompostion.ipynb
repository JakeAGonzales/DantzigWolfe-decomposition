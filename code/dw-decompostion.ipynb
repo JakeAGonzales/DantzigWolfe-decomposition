{
 "cells": [
  {
   "cell_type": "code",
   "execution_count": null,
   "id": "0780d44d",
   "metadata": {},
   "outputs": [],
   "source": [
    "# Create graph for dantzig-decomposition \n",
    "\n",
    "# decompose graph into \"chunks\" by removing nodes and fully connecting the edges \n",
    "\n",
    "\n",
    "def createGraph(n): \n",
    "    \n",
    "    G = nx.something\n",
    "    \n"
   ]
  }
 ],
 "metadata": {
  "kernelspec": {
   "display_name": "env",
   "language": "python",
   "name": "env"
  },
  "language_info": {
   "codemirror_mode": {
    "name": "ipython",
    "version": 3
   },
   "file_extension": ".py",
   "mimetype": "text/x-python",
   "name": "python",
   "nbconvert_exporter": "python",
   "pygments_lexer": "ipython3",
   "version": "3.10.6"
  }
 },
 "nbformat": 4,
 "nbformat_minor": 5
}
